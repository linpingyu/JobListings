{
 "cells": [
  {
   "cell_type": "code",
   "execution_count": null,
   "metadata": {},
   "outputs": [],
   "source": [
    "#load packages for scraping\n",
    "from selenium import webdriver\n",
    "from selenium.webdriver.firefox.options import Options\n",
    "from selenium.webdriver.common.keys import Keys\n",
    "\n",
    "\n",
    "#load packages for data manipulation and storage\n",
    "import numpy as np\n",
    "import pandas as pd\n",
    "\n",
    "\n",
    "import sys\n",
    "import time\n",
    "import argparse\n",
    "from random import randint\n",
    "\n",
    "from tqdm import tqdm\n",
    "\n",
    "import re\n",
    "from random import randint\n",
    "from random import uniform\n",
    "\n",
    "from sqlalchemy import create_engine\n",
    "\n",
    "from collections import defaultdict"
   ]
  },
  {
   "cell_type": "code",
   "execution_count": null,
   "metadata": {},
   "outputs": [],
   "source": [
    "def save_data(fname, df, database_filename, if_exists='append'):\n",
    "    engine = create_engine('sqlite:///'+ database_filename)\n",
    "    df.to_sql(fname, engine, index=False, if_exists=if_exists)\n",
    "    \n",
    "def load_data(fname, database_filename):\n",
    "    engine = create_engine('sqlite:///' + database_filename)\n",
    "    df = pd.read_sql_table(fname, con=engine)\n",
    "    return df"
   ]
  },
  {
   "cell_type": "code",
   "execution_count": null,
   "metadata": {},
   "outputs": [],
   "source": [
    "job_title = 'data scientist'\n",
    "job_loc = 'california'"
   ]
  },
  {
   "cell_type": "code",
   "execution_count": null,
   "metadata": {},
   "outputs": [],
   "source": [
    "start_url = 'https://www.indeed.com'\n",
    "print('initiating webdriver...')\n",
    "options = Options()\n",
    "# if headless is True:\n",
    "#     options.add_argument('--headless')\n",
    "driver = webdriver.Firefox(firefox_options = options)\n",
    "print('launch webdriver...')\n",
    "driver.get(start_url)\n",
    "time.sleep(5)\n",
    "\n",
    "job = driver.find_element_by_name('q')\n",
    "print(f'Job title entered: {job_title}')\n",
    "job.send_keys(job_title) # enter job title\n",
    "where = driver.find_element_by_name('l')\n",
    "time.sleep(2)\n",
    "for i in range(30):\n",
    "    where.send_keys(Keys.BACKSPACE)\n",
    "where.clear()\n",
    "print(f'Job Location entered: {job_loc}')\n",
    "where.send_keys(job_loc) # enter location\n",
    "driver.find_element_by_tag_name('button').click() # click 'Find Jobs'\n",
    "time.sleep(5)"
   ]
  },
  {
   "cell_type": "code",
   "execution_count": null,
   "metadata": {},
   "outputs": [],
   "source": [
    "job_url = defaultdict(list)\n",
    "\n",
    "print('Retrieving job urls...')\n",
    "\n",
    "while len(job_url['urls']) < 500:\n",
    "    post = driver.find_elements_by_class_name('jobsearch-SerpJobCard.row.result.clickcard')\n",
    "    for p in post:\n",
    "        job_url['urls'].append(p.find_element_by_tag_name('a').get_attribute('href'))\n",
    "    time.sleep(randint(1,5))\n",
    "\n",
    "    try:\n",
    "        close = driver.find_element_by_id('popover-close-link')\n",
    "        close.click()\n",
    "    except:\n",
    "        next_button = driver.find_elements_by_class_name('np')\n",
    "        if len(next_button) == 2:\n",
    "            next_button[1].click()\n",
    "        else:\n",
    "            next_button[0].click()\n",
    "\n",
    "    if len(job_url['urls']) % 100 == 0:\n",
    "        print(f\"number of jobs fetched: {len(job_url['urls'])}\")\n",
    "url_df = pd.DataFrame.from_dict(job_url)\n",
    "save_data('urls_DS', url_df, 'IndeedJob', if_exists='replace')\n",
    "print(f'number of jobs fetched: {len(job_url[\"urls\"])}')"
   ]
  },
  {
   "cell_type": "code",
   "execution_count": null,
   "metadata": {},
   "outputs": [],
   "source": [
    "urls = load_data('urls_DS', 'IndeedJob')\n",
    "urls = urls.urls.values.tolist()\n",
    "print(f'Number of urls: {len(urls)}')"
   ]
  },
  {
   "cell_type": "code",
   "execution_count": null,
   "metadata": {},
   "outputs": [],
   "source": [
    "df_dict = defaultdict(list)\n",
    "error_list = []\n",
    "print('Retrieving job infomation...')"
   ]
  },
  {
   "cell_type": "code",
   "execution_count": null,
   "metadata": {},
   "outputs": [],
   "source": [
    "for url in tqdm(urls):\n",
    "    driver.get(url)\n",
    "    time.sleep(randint(2,10))\n",
    "\n",
    "    try:\n",
    "        job_id = driver.find_elements_by_tag_name('meta')[5].get_attribute('content').split('jk=')[1]\n",
    "        job_title = driver.find_element_by_tag_name('h3').text\n",
    "        company_info = driver.find_element_by_class_name('jobsearch-InlineCompanyRating.icl-u-xs-mt--xs.jobsearch-DesktopStickyContainer-companyrating').find_elements_by_tag_name('div')\n",
    "        company = company_info[0].text\n",
    "        location = company_info[-1].text\n",
    "        jd = driver.find_element_by_class_name('jobsearch-JobComponent-description.icl-u-xs-mt--md').text\n",
    "        time_post = driver.find_element_by_class_name('jobsearch-JobMetadataFooter').text.split('-')[1].strip()\n",
    "        df_dict['id'].append(job_id)\n",
    "        df_dict['title'].append(job_title)\n",
    "        df_dict['company'].append(company)\n",
    "        df_dict['location'].append(location)\n",
    "        df_dict['description'].append(jd)\n",
    "        df_dict['time_post'].append(time_post)\n",
    "    except:\n",
    "        error_list.append(url)\n",
    "        next\n",
    "    \n",
    "    if len(df_dict['title']) % 10 == 0:\n",
    "        df = pd.DataFrame.from_dict(df_dict)\n",
    "        save_data('listingDataScientist', df, 'IndeedJob')\n",
    "        df_dict = defaultdict(list)"
   ]
  },
  {
   "cell_type": "code",
   "execution_count": null,
   "metadata": {},
   "outputs": [],
   "source": [
    "df_dict"
   ]
  },
  {
   "cell_type": "code",
   "execution_count": null,
   "metadata": {},
   "outputs": [],
   "source": [
    "print('Saving...')\n",
    "df = pd.DataFrame.from_dict(df_dict)\n",
    "save_data('listingDataAnalyst', df, 'IndeedJob')"
   ]
  },
  {
   "cell_type": "code",
   "execution_count": null,
   "metadata": {},
   "outputs": [],
   "source": [
    "driver.close()\n",
    "print('Done')"
   ]
  }
 ],
 "metadata": {
  "kernelspec": {
   "display_name": "Python 3",
   "language": "python",
   "name": "python3"
  },
  "language_info": {
   "codemirror_mode": {
    "name": "ipython",
    "version": 3
   },
   "file_extension": ".py",
   "mimetype": "text/x-python",
   "name": "python",
   "nbconvert_exporter": "python",
   "pygments_lexer": "ipython3",
   "version": "3.6.7"
  }
 },
 "nbformat": 4,
 "nbformat_minor": 2
}
